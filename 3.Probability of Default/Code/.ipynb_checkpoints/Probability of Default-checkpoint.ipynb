{
 "cells": [
  {
   "cell_type": "markdown",
   "metadata": {},
   "source": [
    "## Homework7:判断违约概率\n",
    "\n",
    "* 2020年4月20日\n",
    "* 周嘉楠 19210980081"
   ]
  },
  {
   "cell_type": "markdown",
   "metadata": {},
   "source": [
    "### 问题1. 读入数据并了解各个自变量的含义\n",
    "#### 1.1 导入数据"
   ]
  },
  {
   "cell_type": "code",
   "execution_count": 18,
   "metadata": {
    "pycharm": {
     "name": "#%%\n"
    }
   },
   "outputs": [],
   "source": [
    "import numpy as np\n",
    "import pandas as pd\n",
    "import matplotlib.pyplot as plt\n",
    "from sklearn import preprocessing\n",
    "from sklearn.impute import SimpleImputer\n",
    "from sklearn.preprocessing import MinMaxScaler\n",
    "from sklearn.preprocessing import LabelEncoder\n",
    "from sklearn.linear_model import LogisticRegression as LR\n",
    "from sklearn.model_selection import train_test_split\n",
    "from sklearn.metrics import accuracy_score\n",
    "from sklearn import linear_model\n",
    "from sklearn.metrics import roc_curve, auc\n",
    "%matplotlib inline\n",
    "plt.rcParams['font.sans-serif']=['SimHei']"
   ]
  },
  {
   "cell_type": "code",
   "execution_count": 19,
   "metadata": {
    "collapsed": false,
    "jupyter": {
     "outputs_hidden": false
    },
    "pycharm": {
     "name": "#%%\n"
    }
   },
   "outputs": [
    {
     "name": "stdout",
     "output_type": "stream",
     "text": [
      "数据集大小: 8032\n",
      "数据集特征: 27\n",
      "数据集特征列表: ['creded' 'debitF' 'meanpay' 'billnum' 'debitM' 'zhongxingM' 'sidaM'\n",
      " 'xindaiR' 'cardnum' 'xindaiF' 'maxpay' 'zhuanzhangF' 'gongjiaoF'\n",
      " 'zhuanzhangR' 'age' 'gongjiaoR' 'sidaF' 'sidaR' 'zhongxingF' 'zhongxingR'\n",
      " 'xiaofeiF' 'jinkaF' 'zhuanzhangM' 'gongjiaoM' 'youxiM' 'xindaiS' 'black']\n"
     ]
    }
   ],
   "source": [
    "lines = np.loadtxt('simudata.csv', delimiter=',', dtype='str')\n",
    "print('数据集大小:',lines.shape[0]-1)\n",
    "print('数据集特征:',lines.shape[1])\n",
    "print('数据集特征列表:',lines[0])"
   ]
  },
  {
   "cell_type": "code",
   "execution_count": 20,
   "metadata": {
    "collapsed": false,
    "jupyter": {
     "outputs_hidden": false
    },
    "pycharm": {
     "name": "#%%\n"
    }
   },
   "outputs": [
    {
     "data": {
      "text/html": [
       "<div>\n",
       "<style scoped>\n",
       "    .dataframe tbody tr th:only-of-type {\n",
       "        vertical-align: middle;\n",
       "    }\n",
       "\n",
       "    .dataframe tbody tr th {\n",
       "        vertical-align: top;\n",
       "    }\n",
       "\n",
       "    .dataframe thead th {\n",
       "        text-align: right;\n",
       "    }\n",
       "</style>\n",
       "<table border=\"1\" class=\"dataframe\">\n",
       "  <thead>\n",
       "    <tr style=\"text-align: right;\">\n",
       "      <th></th>\n",
       "      <th>creded</th>\n",
       "      <th>debitF</th>\n",
       "      <th>meanpay</th>\n",
       "      <th>billnum</th>\n",
       "      <th>debitM</th>\n",
       "      <th>zhongxingM</th>\n",
       "      <th>sidaM</th>\n",
       "      <th>xindaiR</th>\n",
       "      <th>cardnum</th>\n",
       "      <th>xindaiF</th>\n",
       "      <th>...</th>\n",
       "      <th>sidaR</th>\n",
       "      <th>zhongxingF</th>\n",
       "      <th>zhongxingR</th>\n",
       "      <th>xiaofeiF</th>\n",
       "      <th>jinkaF</th>\n",
       "      <th>zhuanzhangM</th>\n",
       "      <th>gongjiaoM</th>\n",
       "      <th>youxiM</th>\n",
       "      <th>xindaiS</th>\n",
       "      <th>black</th>\n",
       "    </tr>\n",
       "  </thead>\n",
       "  <tbody>\n",
       "    <tr>\n",
       "      <th>0</th>\n",
       "      <td>0.02</td>\n",
       "      <td>28.0</td>\n",
       "      <td>474795.0</td>\n",
       "      <td>4.0</td>\n",
       "      <td>784137.54</td>\n",
       "      <td>56826.0</td>\n",
       "      <td>307042.0</td>\n",
       "      <td>365.00</td>\n",
       "      <td>2.0</td>\n",
       "      <td>6.0</td>\n",
       "      <td>...</td>\n",
       "      <td>7.83</td>\n",
       "      <td>4.0</td>\n",
       "      <td>334.38</td>\n",
       "      <td>6.0</td>\n",
       "      <td>9.0</td>\n",
       "      <td>508646.02</td>\n",
       "      <td>297.83</td>\n",
       "      <td>66.02</td>\n",
       "      <td>5760.22</td>\n",
       "      <td>1.0</td>\n",
       "    </tr>\n",
       "    <tr>\n",
       "      <th>1</th>\n",
       "      <td>0.16</td>\n",
       "      <td>2.0</td>\n",
       "      <td>346573.0</td>\n",
       "      <td>32.0</td>\n",
       "      <td>1217.43</td>\n",
       "      <td>43644.0</td>\n",
       "      <td>15096.0</td>\n",
       "      <td>311.73</td>\n",
       "      <td>9.0</td>\n",
       "      <td>0.0</td>\n",
       "      <td>...</td>\n",
       "      <td>91.77</td>\n",
       "      <td>14.0</td>\n",
       "      <td>365.00</td>\n",
       "      <td>1.0</td>\n",
       "      <td>11.0</td>\n",
       "      <td>425876.24</td>\n",
       "      <td>3521.03</td>\n",
       "      <td>22.75</td>\n",
       "      <td>83872.62</td>\n",
       "      <td>1.0</td>\n",
       "    </tr>\n",
       "    <tr>\n",
       "      <th>2</th>\n",
       "      <td>0.32</td>\n",
       "      <td>56.0</td>\n",
       "      <td>168844.0</td>\n",
       "      <td>191.0</td>\n",
       "      <td>95001.76</td>\n",
       "      <td>279217.0</td>\n",
       "      <td>69815.0</td>\n",
       "      <td>42.32</td>\n",
       "      <td>8.0</td>\n",
       "      <td>0.0</td>\n",
       "      <td>...</td>\n",
       "      <td>36.05</td>\n",
       "      <td>10.0</td>\n",
       "      <td>27.08</td>\n",
       "      <td>1.0</td>\n",
       "      <td>2.0</td>\n",
       "      <td>492287.84</td>\n",
       "      <td>467.64</td>\n",
       "      <td>6.66</td>\n",
       "      <td>31110.55</td>\n",
       "      <td>1.0</td>\n",
       "    </tr>\n",
       "    <tr>\n",
       "      <th>3</th>\n",
       "      <td>0.01</td>\n",
       "      <td>28.0</td>\n",
       "      <td>69002.0</td>\n",
       "      <td>89.0</td>\n",
       "      <td>487782.48</td>\n",
       "      <td>273731.0</td>\n",
       "      <td>329437.0</td>\n",
       "      <td>81.60</td>\n",
       "      <td>15.0</td>\n",
       "      <td>1.0</td>\n",
       "      <td>...</td>\n",
       "      <td>10.08</td>\n",
       "      <td>8.0</td>\n",
       "      <td>191.04</td>\n",
       "      <td>1.0</td>\n",
       "      <td>8.0</td>\n",
       "      <td>240067.26</td>\n",
       "      <td>288.67</td>\n",
       "      <td>119.98</td>\n",
       "      <td>7876.13</td>\n",
       "      <td>1.0</td>\n",
       "    </tr>\n",
       "    <tr>\n",
       "      <th>4</th>\n",
       "      <td>0.19</td>\n",
       "      <td>6.0</td>\n",
       "      <td>408647.0</td>\n",
       "      <td>104.0</td>\n",
       "      <td>22039.56</td>\n",
       "      <td>13529.0</td>\n",
       "      <td>24725.0</td>\n",
       "      <td>254.60</td>\n",
       "      <td>17.0</td>\n",
       "      <td>9.0</td>\n",
       "      <td>...</td>\n",
       "      <td>324.21</td>\n",
       "      <td>23.0</td>\n",
       "      <td>248.39</td>\n",
       "      <td>7.0</td>\n",
       "      <td>0.0</td>\n",
       "      <td>455464.47</td>\n",
       "      <td>11834.25</td>\n",
       "      <td>28.97</td>\n",
       "      <td>13765.38</td>\n",
       "      <td>0.0</td>\n",
       "    </tr>\n",
       "  </tbody>\n",
       "</table>\n",
       "<p>5 rows × 27 columns</p>\n",
       "</div>"
      ],
      "text/plain": [
       "   creded  debitF   meanpay  billnum     debitM  zhongxingM     sidaM  \\\n",
       "0    0.02    28.0  474795.0      4.0  784137.54     56826.0  307042.0   \n",
       "1    0.16     2.0  346573.0     32.0    1217.43     43644.0   15096.0   \n",
       "2    0.32    56.0  168844.0    191.0   95001.76    279217.0   69815.0   \n",
       "3    0.01    28.0   69002.0     89.0  487782.48    273731.0  329437.0   \n",
       "4    0.19     6.0  408647.0    104.0   22039.56     13529.0   24725.0   \n",
       "\n",
       "   xindaiR  cardnum  xindaiF  ...   sidaR  zhongxingF  zhongxingR  xiaofeiF  \\\n",
       "0   365.00      2.0      6.0  ...    7.83         4.0      334.38       6.0   \n",
       "1   311.73      9.0      0.0  ...   91.77        14.0      365.00       1.0   \n",
       "2    42.32      8.0      0.0  ...   36.05        10.0       27.08       1.0   \n",
       "3    81.60     15.0      1.0  ...   10.08         8.0      191.04       1.0   \n",
       "4   254.60     17.0      9.0  ...  324.21        23.0      248.39       7.0   \n",
       "\n",
       "   jinkaF  zhuanzhangM  gongjiaoM  youxiM   xindaiS  black  \n",
       "0     9.0    508646.02     297.83   66.02   5760.22    1.0  \n",
       "1    11.0    425876.24    3521.03   22.75  83872.62    1.0  \n",
       "2     2.0    492287.84     467.64    6.66  31110.55    1.0  \n",
       "3     8.0    240067.26     288.67  119.98   7876.13    1.0  \n",
       "4     0.0    455464.47   11834.25   28.97  13765.38    0.0  \n",
       "\n",
       "[5 rows x 27 columns]"
      ]
     },
     "execution_count": 20,
     "metadata": {},
     "output_type": "execute_result"
    }
   ],
   "source": [
    "data = pd.DataFrame(lines[1:],columns=lines[0],dtype='float64')\n",
    "data.head()"
   ]
  },
  {
   "cell_type": "code",
   "execution_count": 21,
   "metadata": {
    "collapsed": false,
    "jupyter": {
     "outputs_hidden": false
    },
    "pycharm": {
     "name": "#%%\n"
    }
   },
   "outputs": [
    {
     "name": "stdout",
     "output_type": "stream",
     "text": [
      "定量特征有： 26 个\n",
      "定量特征为： ['creded', 'debitF', 'meanpay', 'billnum', 'debitM', 'zhongxingM', 'sidaM', 'xindaiR', 'cardnum', 'xindaiF', 'maxpay', 'zhuanzhangF', 'gongjiaoF', 'zhuanzhangR', 'age', 'gongjiaoR', 'sidaF', 'sidaR', 'zhongxingF', 'zhongxingR', 'xiaofeiF', 'jinkaF', 'zhuanzhangM', 'gongjiaoM', 'youxiM', 'xindaiS']\n",
      "定量特征描述：\n",
      "             creded       debitF       meanpay      billnum        debitM  \\\n",
      "count  8032.000000  8032.000000  8.032000e+03  8032.000000  8.032000e+03   \n",
      "mean      0.144796    35.455802  2.717996e+05    74.471489  3.050731e+05   \n",
      "std       0.143946    35.141984  2.352257e+05    71.310466  2.597760e+05   \n",
      "min       0.000000     0.000000  0.000000e+00     0.000000  2.600000e+01   \n",
      "25%       0.020000     5.000000  5.047525e+04    11.000000  5.930946e+04   \n",
      "50%       0.100000    25.000000  2.312770e+05    55.000000  2.648380e+05   \n",
      "75%       0.240000    57.000000  4.253420e+05   119.000000  4.796458e+05   \n",
      "max       0.820000   202.000000  1.346594e+06   427.000000  1.436086e+06   \n",
      "\n",
      "         zhongxingM         sidaM      xindaiR      cardnum      xindaiF  ...  \\\n",
      "count  8.032000e+03  8.032000e+03  8032.000000  8032.000000  8032.000000  ...   \n",
      "mean   1.617706e+05  2.715348e+05   163.339720     6.394796     4.159985  ...   \n",
      "std    1.714516e+05  2.460283e+05   104.671216     4.379306     3.633870  ...   \n",
      "min    3.000000e+00  1.000000e+01     0.020000     0.000000     0.000000  ...   \n",
      "25%    2.161650e+04  4.469200e+04    70.175000     3.000000     1.000000  ...   \n",
      "50%    9.791300e+04  2.197690e+05   155.520000     6.000000     4.000000  ...   \n",
      "75%    2.610935e+05  4.338408e+05   241.020000     9.000000     7.000000  ...   \n",
      "max    1.017770e+06  1.299826e+06   365.000000    26.000000    20.000000  ...   \n",
      "\n",
      "             sidaF        sidaR   zhongxingF   zhongxingR     xiaofeiF  \\\n",
      "count  8032.000000  8032.000000  8032.000000  8032.000000  8032.000000   \n",
      "mean     25.263446   148.532261     7.812251   237.543242     2.578312   \n",
      "std      25.356962    99.256973     8.336176   106.227388     3.035972   \n",
      "min       0.000000     0.160000     0.000000     0.170000     0.000000   \n",
      "25%       4.000000    57.222500     1.000000   157.150000     0.000000   \n",
      "50%      17.000000   136.135000     5.000000   251.330000     1.000000   \n",
      "75%      42.000000   219.947500    13.000000   340.050000     4.000000   \n",
      "max     144.000000   365.000000    53.000000   365.000000    19.000000   \n",
      "\n",
      "            jinkaF   zhuanzhangM     gongjiaoM       youxiM        xindaiS  \n",
      "count  8032.000000  8.032000e+03   8032.000000  8032.000000    8032.000000  \n",
      "mean      6.101469  3.046979e+05   6079.254307   209.638073  106103.725818  \n",
      "std       7.047664  2.963735e+05   7530.265840   260.277361   94056.103030  \n",
      "min       0.000000  3.821000e+01      0.020000     0.000000       8.050000  \n",
      "25%       1.000000  4.583786e+04    804.827500    28.047500   18240.015000  \n",
      "50%       3.000000  2.145178e+05   2245.550000    75.050000   87971.440000  \n",
      "75%      10.000000  4.963003e+05   9483.372500   329.990000  165942.247500  \n",
      "max      44.000000  1.650050e+06  55745.070000  1939.000000  485178.350000  \n",
      "\n",
      "[8 rows x 26 columns]\n"
     ]
    }
   ],
   "source": [
    "# 定量变量\n",
    "quant_var = list(data.loc[:,data.columns != 'black'].columns)\n",
    "print('定量特征有：',len(quant_var),'个')\n",
    "print('定量特征为：',quant_var)\n",
    "print('定量特征描述：\\n',data.loc[:,data.columns != 'black'].astype('float').describe())"
   ]
  },
  {
   "cell_type": "markdown",
   "metadata": {
    "pycharm": {
     "is_executing": false,
     "name": "#%% md\n"
    }
   },
   "source": [
    "#### 1.2 缺失值处理\n",
    "结论：数据完整，没有缺失值"
   ]
  },
  {
   "cell_type": "code",
   "execution_count": 22,
   "metadata": {
    "pycharm": {
     "name": "#%%\n"
    }
   },
   "outputs": [
    {
     "name": "stdout",
     "output_type": "stream",
     "text": [
      "<class 'pandas.core.frame.DataFrame'>\n",
      "RangeIndex: 8032 entries, 0 to 8031\n",
      "Data columns (total 27 columns):\n",
      "creded         8032 non-null float64\n",
      "debitF         8032 non-null float64\n",
      "meanpay        8032 non-null float64\n",
      "billnum        8032 non-null float64\n",
      "debitM         8032 non-null float64\n",
      "zhongxingM     8032 non-null float64\n",
      "sidaM          8032 non-null float64\n",
      "xindaiR        8032 non-null float64\n",
      "cardnum        8032 non-null float64\n",
      "xindaiF        8032 non-null float64\n",
      "maxpay         8032 non-null float64\n",
      "zhuanzhangF    8032 non-null float64\n",
      "gongjiaoF      8032 non-null float64\n",
      "zhuanzhangR    8032 non-null float64\n",
      "age            8032 non-null float64\n",
      "gongjiaoR      8032 non-null float64\n",
      "sidaF          8032 non-null float64\n",
      "sidaR          8032 non-null float64\n",
      "zhongxingF     8032 non-null float64\n",
      "zhongxingR     8032 non-null float64\n",
      "xiaofeiF       8032 non-null float64\n",
      "jinkaF         8032 non-null float64\n",
      "zhuanzhangM    8032 non-null float64\n",
      "gongjiaoM      8032 non-null float64\n",
      "youxiM         8032 non-null float64\n",
      "xindaiS        8032 non-null float64\n",
      "black          8032 non-null float64\n",
      "dtypes: float64(27)\n",
      "memory usage: 1.7 MB\n"
     ]
    }
   ],
   "source": [
    "# 查看每列数据是否有缺失值：没有缺失值\n",
    "data.info()"
   ]
  },
  {
   "cell_type": "markdown",
   "metadata": {
    "pycharm": {
     "name": "#%% md\n"
    }
   },
   "source": [
    "### 问题2：对变量交易笔数和所有用户行为均值分别绘制违约组和非违约组的对比箱线图，并分析是否违约与这些变量之间的关系，给出解读"
   ]
  },
  {
   "cell_type": "markdown",
   "metadata": {
    "pycharm": {
     "name": "#%% md\n"
    }
   },
   "source": [
    "### 2.1 交易笔数"
   ]
  },
  {
   "cell_type": "code",
   "execution_count": 56,
   "metadata": {
    "collapsed": false,
    "jupyter": {
     "outputs_hidden": false
    },
    "pycharm": {
     "name": "#%%\n"
    }
   },
   "outputs": [
    {
     "data": {
      "image/png": "[encoded data removed]",
      "text/plain": [
       "<Figure size 936x288 with 1 Axes>"
      ]
     },
     "metadata": {
      "needs_background": "light"
     },
     "output_type": "display_data"
    }
   ],
   "source": [
    "# 进行索引\n",
    "billnum_def = np.array(data['billnum'])[np.where(data['black']==1)]\n",
    "billnum_udf = np.array(data['billnum'])[np.where(data['black']==0)]\n",
    "\n",
    "# 画出箱线图\n",
    "plt.figure(figsize=(13, 4))\n",
    "plt.subplot(121)\n",
    "labels = ['违约组','未违约组']\n",
    "plt.boxplot([billnum_def,billnum_udf],labels=labels)\n",
    "plt.title(\"箱线图:交易笔数vs违约情况\",fontsize='large')\n",
    "plt.xlabel('图2-1 交易笔数vs违约情况',fontsize='medium')\n",
    "plt.ylabel('交易笔数',fontsize='medium')\n",
    "plt.show()"
   ]
  },
  {
   "cell_type": "markdown",
   "metadata": {},
   "source": [
    "从交易笔数vs违约情况的箱线图中可以看到，未违约组的交易笔数中位数明显高于违约组的交易笔数，同时未违约组有较多交易笔数更大的用户（离群值更高）。"
   ]
  },
  {
   "cell_type": "markdown",
   "metadata": {
    "pycharm": {
     "name": "#%% md\n"
    }
   },
   "source": [
    "### 2.2 所有行为均值"
   ]
  },
  {
   "cell_type": "code",
   "execution_count": 57,
   "metadata": {
    "collapsed": false,
    "jupyter": {
     "outputs_hidden": false
    },
    "pycharm": {
     "name": "#%%\n"
    }
   },
   "outputs": [
    {
     "data": {
      "image/png": "[encoded data removed]",
      "text/plain": [
       "<Figure size 936x288 with 1 Axes>"
      ]
     },
     "metadata": {
      "needs_background": "light"
     },
     "output_type": "display_data"
    }
   ],
   "source": [
    "# 进行索引\n",
    "meanpay_def = np.array(data['meanpay'])[np.where(data['black']==1)]\n",
    "meanpay_udf = np.array(data['meanpay'])[np.where(data['black']==0)]\n",
    "\n",
    "# 画出箱线图\n",
    "plt.figure(figsize=(13, 4))\n",
    "plt.subplot(121)\n",
    "labels = ['违约组','未违约组']\n",
    "plt.boxplot([meanpay_def,meanpay_udf],labels=labels)\n",
    "plt.title(\"箱线图:所有行为均值vs违约情况\",fontsize='large')\n",
    "plt.xlabel('图2-1 所有行为均值vs违约情况',fontsize='medium')\n",
    "plt.ylabel('所有行为均值',fontsize='medium')\n",
    "plt.show()"
   ]
  },
  {
   "cell_type": "markdown",
   "metadata": {},
   "source": [
    "从所有行为均值vs违约情况的箱线图中可以看到，未违约组的所有行为均值中位数明显高于违约组的所有行为均值，意味着未违约组用户所有交易行为的平均金额更高，与正常情况相符，而违约组的所有交易行为的平均金额较低，意味着用户财务状况和消费能力较差。"
   ]
  },
  {
   "cell_type": "markdown",
   "metadata": {
    "pycharm": {
     "name": "#%% md\n"
    }
   },
   "source": [
    "### 问题3. 用全部样本数据，以是否违约为因变量建立逻辑回归模型，利用BIC准则进行变量筛选，观察最终得到的回归系数并尝试解释对系数进行解释"
   ]
  },
  {
   "cell_type": "markdown",
   "metadata": {
    "pycharm": {
     "name": "#%% md\n"
    }
   },
   "source": [
    "#### 3.1 数据处理：将定量变量归一化"
   ]
  },
  {
   "cell_type": "code",
   "execution_count": 25,
   "metadata": {
    "pycharm": {
     "name": "#%%\n"
    }
   },
   "outputs": [],
   "source": [
    "# 对定量变量做归一化处理（输出结果是0~1之间数值）\n",
    "data[quant_var] = MinMaxScaler().fit_transform(data[quant_var])"
   ]
  },
  {
   "cell_type": "markdown",
   "metadata": {},
   "source": [
    "#### 3.2 提取数据"
   ]
  },
  {
   "cell_type": "code",
   "execution_count": 26,
   "metadata": {
    "pycharm": {
     "name": "#%%\n"
    }
   },
   "outputs": [],
   "source": [
    "# 提取表格中的特征features、标签labels\n",
    "x_total = np.array(data.loc[:, data.columns != 'black'].astype('float'))\n",
    "y_total = np.array(data.loc[:, data.columns == 'black'].astype('float')).flatten()    # 将y_total变为行向量\n",
    "\n",
    "# 标签分类定位\n",
    "# 定位出所有y_total为1的索引值（pos_index属性为tuple）\n",
    "pos_index = np.where(y_total == 1)\n",
    "# 定位出所有y_total为0的索引值（neg_index属性为tuple）\n",
    "neg_index = np.where(y_total == 0)"
   ]
  },
  {
   "cell_type": "markdown",
   "metadata": {},
   "source": [
    "#### 3.3 逻辑回归模型:L1正则化"
   ]
  },
  {
   "cell_type": "code",
   "execution_count": 59,
   "metadata": {
    "pycharm": {
     "name": "#%%\n"
    }
   },
   "outputs": [
    {
     "data": {
      "image/png": "[encoded data removed]",
      "text/plain": [
       "<Figure size 432x432 with 1 Axes>"
      ]
     },
     "metadata": {
      "needs_background": "light"
     },
     "output_type": "display_data"
    }
   ],
   "source": [
    "# 分别做L1、L2正则化，并画图选择最优参数\n",
    "\n",
    "l1 = []\n",
    "l2 = []\n",
    "l1test = []\n",
    "l2test = []\n",
    "\n",
    "Xtrain, Xtest, Ytrain, Ytest = train_test_split(x_total,y_total,test_size=0.3,random_state=420)\n",
    "\n",
    "for i in np.linspace(0.05,1,19):\n",
    "\n",
    "    lrl1 = LR(penalty=\"l1\",solver=\"liblinear\",C=i,max_iter=1000)\n",
    "    lrl2 = LR(penalty=\"l2\",solver=\"liblinear\",C=i,max_iter=1000)\n",
    "\n",
    "    lrl1 = lrl1.fit(Xtrain,Ytrain)\n",
    "    l1.append(accuracy_score(lrl1.predict(Xtrain),Ytrain))\n",
    "    l1test.append(accuracy_score(lrl1.predict(Xtest),Ytest))\n",
    "\n",
    "    lrl2 = lrl2.fit(Xtrain,Ytrain)\n",
    "    l2.append(accuracy_score(lrl2.predict(Xtrain),Ytrain))\n",
    "    l2test.append(accuracy_score(lrl2.predict(Xtest),Ytest))\n",
    "\n",
    "graph = [l1,l2,l1test,l2test]\n",
    "color = [\"green\",\"black\",\"lightgreen\",\"gray\"]\n",
    "label = [\"L1\",\"L2\",\"L1test\",\"L2test\"]\n",
    "\n",
    "plt.figure(figsize=(6, 6))\n",
    "for i in range(len(graph)):\n",
    "    plt.plot(np.linspace(0.05,1,19),graph[i],color[i],label=label[i])\n",
    "plt.legend(loc=4)\n",
    "plt.show()"
   ]
  },
  {
   "cell_type": "markdown",
   "metadata": {
    "pycharm": {
     "name": "#%% md\n"
    }
   },
   "source": [
    "结果说明：选择L1正则化，正则化强度倒数C选择0.7，这样的模型效果最好"
   ]
  },
  {
   "cell_type": "code",
   "execution_count": 28,
   "metadata": {
    "collapsed": false,
    "jupyter": {
     "outputs_hidden": false
    },
    "pycharm": {
     "name": "#%%\n"
    }
   },
   "outputs": [
    {
     "name": "stdout",
     "output_type": "stream",
     "text": [
      "模型准确度： 0.7643177290836654\n",
      "模型系数：\n",
      " [[-3.22652673 -2.29079155 -3.04630939 -1.69582002 -0.75087287 -0.42465768\n",
      "  -1.3672136   1.92955429  2.89301685  2.3130234   2.17308606  2.08715427\n",
      "   1.55954836  1.60328178  2.11837017  0.83620244  0.65439386  0.22819326\n",
      "   0.58999877  0.29839887  0.71820502  0.55149647 -0.43718547  0.75992479\n",
      "   0.50427094  0.35039226]]\n",
      "模型参数有： [26] 个\n",
      "对结果影响最大的正参数为: cardnum\n",
      "对结果影响最大的负参数为: creded\n",
      "对结果影响最大的正参数的系数为: 2.8930168487834664\n",
      "对结果影响最大的负参数的系数为: -3.2265267349983078\n"
     ]
    }
   ],
   "source": [
    "# L1正则化训练模型\n",
    "lrl1 = LR(penalty=\"l1\",solver=\"liblinear\",C=0.7,max_iter=1000)\n",
    "lrl1 = lrl1.fit(x_total,y_total)\n",
    "print('模型准确度：',accuracy_score(lrl1.predict(x_total),y_total))\n",
    "print('模型系数：\\n',lrl1.coef_)\n",
    "print('模型参数有：',(lrl1.coef_ != 0).sum(axis=1),'个')\n",
    "\n",
    "# 找出系数最大的参数（即为对结果影响最大的参数）\n",
    "print('对结果影响最大的正参数为:',data.columns[lrl1.coef_.argmax()])\n",
    "print('对结果影响最大的负参数为:',data.columns[lrl1.coef_.argmin()])\n",
    "print('对结果影响最大的正参数的系数为:',lrl1.coef_.flatten()[lrl1.coef_.argmax()])\n",
    "print('对结果影响最大的负参数的系数为:',lrl1.coef_.flatten()[lrl1.coef_.argmin()])"
   ]
  },
  {
   "cell_type": "code",
   "execution_count": 29,
   "metadata": {
    "pycharm": {
     "name": "#%%\n"
    }
   },
   "outputs": [
    {
     "name": "stdout",
     "output_type": "stream",
     "text": [
      "模型所有参数：\n"
     ]
    },
    {
     "data": {
      "text/plain": [
       "[('creded', -3.2265267349983078),\n",
       " ('debitF', -2.2907915531106036),\n",
       " ('meanpay', -3.0463093918487223),\n",
       " ('billnum', -1.6958200242031487),\n",
       " ('debitM', -0.7508728683434108),\n",
       " ('zhongxingM', -0.42465767592533515),\n",
       " ('sidaM', -1.3672136000742854),\n",
       " ('xindaiR', 1.9295542870595672),\n",
       " ('cardnum', 2.8930168487834664),\n",
       " ('xindaiF', 2.313023404765529),\n",
       " ('maxpay', 2.173086055614373),\n",
       " ('zhuanzhangF', 2.087154269760282),\n",
       " ('gongjiaoF', 1.5595483643010029),\n",
       " ('zhuanzhangR', 1.603281783178127),\n",
       " ('age', 2.118370166274002),\n",
       " ('gongjiaoR', 0.8362024352194206),\n",
       " ('sidaF', 0.6543938611480398),\n",
       " ('sidaR', 0.2281932564066994),\n",
       " ('zhongxingF', 0.5899987732884395),\n",
       " ('zhongxingR', 0.29839886513660197),\n",
       " ('xiaofeiF', 0.7182050157657706),\n",
       " ('jinkaF', 0.5514964737456358),\n",
       " ('zhuanzhangM', -0.43718546633767774),\n",
       " ('gongjiaoM', 0.7599247947894275),\n",
       " ('youxiM', 0.504270942558938),\n",
       " ('xindaiS', 0.35039225633795096)]"
      ]
     },
     "execution_count": 29,
     "metadata": {},
     "output_type": "execute_result"
    }
   ],
   "source": [
    "print('模型所有参数：')\n",
    "[*zip(data.columns[:-1],lrl1.coef_.flatten().tolist())]"
   ]
  },
  {
   "cell_type": "markdown",
   "metadata": {},
   "source": [
    "1. 其中有8个特征的参数为负数，即\"借贷比率、借记类F、所有行为均值、交易笔数、借记类M、中型银行M、四大行M、转账类M\"，意味着这些特征越大，预测结果越接近0类别（即未违约），其中\"借贷比率\"的系数绝对值最大，即借贷比率在对预测是否违约的结果中影响因素最大。\n",
    "2. 剩余18个特征的参数均为正数，意味着这些特征越大，预测结果越接近1类别（即违约），其中\"银行卡数\"的系数最大，即银行卡数在对预测是否违约的结果中影响因素最大。"
   ]
  },
  {
   "cell_type": "markdown",
   "metadata": {},
   "source": [
    "### 问题4. 使用任务3的模型，对全部样本进行预测，计算AUC值，并绘制ROC曲线，对模型的效果进行评估"
   ]
  },
  {
   "cell_type": "code",
   "execution_count": 62,
   "metadata": {
    "pycharm": {
     "name": "#%%\n"
    }
   },
   "outputs": [
    {
     "name": "stdout",
     "output_type": "stream",
     "text": [
      "AUC: 0.8268438496976998\n"
     ]
    },
    {
     "data": {
      "image/png": "[encoded data removed]",
      "text/plain": [
       "<Figure size 576x576 with 1 Axes>"
      ]
     },
     "metadata": {
      "needs_background": "light"
     },
     "output_type": "display_data"
    }
   ],
   "source": [
    "# 通过decision_function()计算得到的y_score的值，用在roc_curve()函数中\n",
    "y_score = lrl1.decision_function(x_total)\n",
    "\n",
    "# 计算真正率和假正率\n",
    "fpr,tpr,threshold = roc_curve(y_total, y_score)\n",
    "\n",
    "# 计算AUC的值\n",
    "roc_auc = auc(fpr,tpr)\n",
    "print('AUC:',roc_auc)\n",
    "\n",
    "# 画出ROC曲线\n",
    "lw = 2\n",
    "plt.figure(figsize=(8,8))\n",
    "plt.plot(fpr, tpr, color='darkorange',\n",
    "         lw=lw, label='ROC curve (area = %0.2f)' % roc_auc)\n",
    "plt.plot([0, 1], [0, 1], color='navy', lw=lw, linestyle='--')\n",
    "plt.xlim([0.0, 1.0])\n",
    "plt.ylim([0.0, 1.05])\n",
    "plt.xlabel('FPR：假正例率',fontsize='large')\n",
    "plt.ylabel('TPR：真正例率',fontsize='large')\n",
    "plt.title('ROC曲线',fontsize='large')\n",
    "plt.legend(loc=\"best\")\n",
    "plt.show()"
   ]
  },
  {
   "cell_type": "markdown",
   "metadata": {},
   "source": [
    "从ROC曲线中可以看出本模型预测效果较好，ROC曲线凸性较大，其中AUC面积占到了0.83"
   ]
  },
  {
   "cell_type": "markdown",
   "metadata": {},
   "source": [
    "1. 其中有8个特征的参数为负数，即\"借贷比率、借记类F、所有行为均值、交易笔数、借记类M、中型银行M、四大行M、转账类M\"，意味着这些特征越大，预测结果越接近0类别（即未违约），其中\"借贷比率\"的系数绝对值最大，即借贷比率在对预测是否违约的结果中影响因素最大。\n",
    "2. 剩余18个特征的参数均为正数，意味着这些特征越大，预测结果越接近1累呗（即违约），其中\"银行卡数\"的系数最大，即银行卡数在对预测是否违约的结果中影响因素最大。"
   ]
  },
  {
   "cell_type": "markdown",
   "metadata": {
    "pycharm": {
     "name": "#%% md\n"
    }
   },
   "source": [
    "### 问题5. 任务4中对每个训练样本预测出了非违约的概率，按照非违约率从高到低排序，将全部样本分为5组人群：非违约率最高的20%用户、…、非违约率最低的20%用户，计算五类人群的平均非违约概率，从高到低排序，绘制柱状图；对结果的商业应用进行解读。"
   ]
  },
  {
   "cell_type": "code",
   "execution_count": 38,
   "metadata": {
    "collapsed": false,
    "jupyter": {
     "outputs_hidden": false
    },
    "pycharm": {
     "name": "#%%\n"
    }
   },
   "outputs": [],
   "source": [
    "# 计算预测未违约、违约概率\n",
    "y_pred_prob = lrl1.predict_proba(x_total)\n",
    "\n",
    "# 将结果生成DataFrame\n",
    "data_prob = pd.DataFrame(y_pred_prob,columns=['未违约概率','违约概率'])\n",
    "\n",
    "# 对未违约概率进行等频分箱，每个箱中样本数量相同\n",
    "data_prob[\"未违约分箱\"] = pd.qcut(data_prob[\"未违约概率\"],5,labels=['未违约排名5','未违约排名4','未违约排名3','未违约排名2','未违约排名1'])"
   ]
  },
  {
   "cell_type": "code",
   "execution_count": 55,
   "metadata": {
    "collapsed": false,
    "jupyter": {
     "outputs_hidden": false
    },
    "pycharm": {
     "name": "#%%\n"
    }
   },
   "outputs": [
    {
     "data": {
      "text/plain": [
       "[0.9521260659450207,\n",
       " 0.8566989001722156,\n",
       " 0.7237079192346454,\n",
       " 0.5406155105442119,\n",
       " 0.2576677066956358]"
      ]
     },
     "execution_count": 55,
     "metadata": {},
     "output_type": "execute_result"
    }
   ],
   "source": [
    "# 计算五类人群的平均非违约概率\n",
    "prob_result = []\n",
    "for i in range(1,6):\n",
    "    a = np.array(data_prob[\"未违约概率\"])[np.where(data_prob[\"未违约分箱\"] == '未违约排名%d' % i)].mean()\n",
    "    prob_result.append(a)\n",
    "prob_result"
   ]
  },
  {
   "cell_type": "code",
   "execution_count": 63,
   "metadata": {
    "collapsed": false,
    "jupyter": {
     "outputs_hidden": false
    },
    "pycharm": {
     "name": "#%%\n"
    }
   },
   "outputs": [
    {
     "data": {
      "image/png": "[encoded data removed]",
      "text/plain": [
       "<Figure size 936x288 with 1 Axes>"
      ]
     },
     "metadata": {
      "needs_background": "light"
     },
     "output_type": "display_data"
    }
   ],
   "source": [
    "# 绘制柱状图\n",
    "plt.figure(figsize=(13, 4))\n",
    "plt.subplot(121)\n",
    "x = ['未违约排名5','未违约排名4','未违约排名3','未违约排名2','未违约排名1'][::-1]\n",
    "y = prob_result\n",
    "plt.bar(x,y,width=0.5, color=['b','r','g','y','c'])\n",
    "plt.title(\"柱状图:五类人群的平均非违约概率\",fontsize='large')\n",
    "plt.xlabel('图5 五类人群的平均非违约概率',fontsize='medium')\n",
    "plt.ylabel('非违约概率',fontsize='medium')\n",
    "plt.show()"
   ]
  },
  {
   "cell_type": "markdown",
   "metadata": {},
   "source": [
    "从预测概率的结果可以得出，5类人群平均非违约概率分别为：95.21%、85.67%、72.37%、54.06%、25.77%，从概率上看，前四类人群的非违约概率均大于50%，若按逻辑回归模型会将结果归为“未违约”类别，可以针对前四类用户的特征进行进一步的探索，而最后一类人群的未违约概率较小，模型会将其分类为“违约”类别。"
   ]
  }
 ],
 "metadata": {
  "kernelspec": {
   "display_name": "Python 3",
   "language": "python",
   "name": "python3"
  },
  "language_info": {
   "codemirror_mode": {
    "name": "ipython",
    "version": 3
   },
   "file_extension": ".py",
   "mimetype": "text/x-python",
   "name": "python",
   "nbconvert_exporter": "python",
   "pygments_lexer": "ipython3",
   "version": "3.7.7"
  }
 },
 "nbformat": 4,
 "nbformat_minor": 4
}
